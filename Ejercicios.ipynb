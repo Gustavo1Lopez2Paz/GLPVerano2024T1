{
 "cells": [
  {
   "cell_type": "code",
   "execution_count": 1,
   "metadata": {},
   "outputs": [],
   "source": [
    "import CodeBaseCuan.ordenar as ord\n",
    "import CodeBaseCuan.ClLiminfLimsup as cl\n",
    "import CodeBaseCuan.fabs as Fabs\n",
    "import CodeBaseCuan.frel as Frel\n",
    "import CodeBaseCuan.facum as Facum\n",
    "\n",
    "import tabla_graficas.tabla as tab\n",
    "import tabla_graficas.graficas as gr"
   ]
  },
  {
   "cell_type": "markdown",
   "metadata": {},
   "source": [
    "# Ejercicios Pagina 37\n"
   ]
  },
  {
   "cell_type": "markdown",
   "metadata": {},
   "source": [
    "## Ejercicio 12\n",
    "\n",
    "El número de calorías correspondiente a los alimentos tipo sándwich que se sirven en un negocio de comida rápida se presenta a continuación:\n",
    "\n",
    "250\n",
    "790\n",
    "470\n",
    "510\n",
    "500\n",
    "330\n",
    "300\n",
    "750\n",
    "580\n",
    "740\n",
    "420\n",
    "260\n",
    "440\n",
    "770\n",
    "400\n",
    "540\n",
    "530\n",
    "330\n",
    "390\n",
    "380\n",
    "340\n",
    "460\n",
    "530\n",
    "260\n",
    "410\n",
    "360\n",
    "270\n",
    "510\n",
    "630\n",
    "330\n",
    "\n",
    "a. Realiza un histograma usando seis clases. Describe la forma de la distribución de los datos.  \n",
    "b. Traza una ojiva y expón tus conclusiones."
   ]
  },
  {
   "cell_type": "code",
   "execution_count": 2,
   "metadata": {},
   "outputs": [],
   "source": [
    "datos = [250, 790, 470, 510, 500, 330, 300, 750, 580, 740, 420, 260, 440, 770, 400, 540, 530, 330, 390, 380, 340, 460, 530, 260, 410, 360, 270, 510, 630, 330]\n",
    "\n",
    "ordenar = ord.ordenar_asc(datos)\n",
    "lim_inf, lim_sup, Mclases = cl.clases_grouped(datos)\n",
    "fa, clases = Fabs.fa_grouped(ordenar, lim_inf, lim_sup)\n",
    "frel = Frel.obtener_fr(fa)\n",
    "facum = Facum.obtener_fa(frel)"
   ]
  },
  {
   "cell_type": "code",
   "execution_count": null,
   "metadata": {},
   "outputs": [],
   "source": []
  }
 ],
 "metadata": {
  "kernelspec": {
   "display_name": "Python 3 (ipykernel)",
   "language": "python",
   "name": "python3"
  },
  "language_info": {
   "codemirror_mode": {
    "name": "ipython",
    "version": 3
   },
   "file_extension": ".py",
   "mimetype": "text/x-python",
   "name": "python",
   "nbconvert_exporter": "python",
   "pygments_lexer": "ipython3",
   "version": "3.12.0"
  }
 },
 "nbformat": 4,
 "nbformat_minor": 4
}
